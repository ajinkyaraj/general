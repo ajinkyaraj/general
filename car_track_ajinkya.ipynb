{
  "nbformat": 4,
  "nbformat_minor": 0,
  "metadata": {
    "kernelspec": {
      "display_name": "Python 3",
      "language": "python",
      "name": "python3"
    },
    "language_info": {
      "codemirror_mode": {
        "name": "ipython",
        "version": 3
      },
      "file_extension": ".py",
      "mimetype": "text/x-python",
      "name": "python",
      "nbconvert_exporter": "python",
      "pygments_lexer": "ipython3",
      "version": "3.6.8"
    },
    "colab": {
      "name": "car_track_ajinkya.ipynb",
      "provenance": [],
      "include_colab_link": true
    }
  },
  "cells": [
    {
      "cell_type": "markdown",
      "metadata": {
        "id": "view-in-github",
        "colab_type": "text"
      },
      "source": [
        "<a href=\"https://colab.research.google.com/github/ajinkyaraj/general/blob/master/car_track_ajinkya.ipynb\" target=\"_parent\"><img src=\"https://colab.research.google.com/assets/colab-badge.svg\" alt=\"Open In Colab\"/></a>"
      ]
    },
    {
      "cell_type": "code",
      "metadata": {
        "id": "MaR8r-m2J68M"
      },
      "source": [
        "import numpy as np\n",
        "import pandas as pd\n",
        "import matplotlib.pyplot as plt\n",
        "from sklearn.neighbors import KDTree"
      ],
      "execution_count": 1,
      "outputs": []
    },
    {
      "cell_type": "code",
      "metadata": {
        "id": "zl6GDMNvJ68W"
      },
      "source": [
        "class Car(object):\n",
        "    def __init__(self):\n",
        "        self.track = pd.read_csv('https://raw.githubusercontent.com/KnowchowHQ/rl-in-action/master/C1-RL-Intro/W1S1/track.txt',sep=' ')\n",
        "        self.kdtree = KDTree(self.track)\n",
        "        self.__reset__()\n",
        "\n",
        "    def __reset__(self):\n",
        "        self.max_steering_deg = 25\n",
        "        self.min_steering_deg = -25\n",
        "        self.min_speed = 0 #meter per second\n",
        "        self.max_speed = 50 #meter per second\n",
        "        self.speed = 0 #meter per second\n",
        "        self.steering_deg = 0 #degree\n",
        "        self.heading_deg = 0 #degrees\n",
        "        self.x = self.track.x[0]\n",
        "        self.y = self.track.y[0]\n",
        "        self.length = 1.0 # length of vehicle in meter\n",
        "        \n",
        "    def render(self):\n",
        "        plt.figure(figsize=(12,8))\n",
        "        plt.scatter(self.track.x, self.track.y)\n",
        "        plt.plot(self.track.x[0], self.track.y[0], 'go', markersize=12)\n",
        "        plt.plot(self.x, self.y, 'r.', markersize=12)\n",
        "        plt.show()\n",
        "        \n",
        "    \n",
        "    def _to_rad_(deg):\n",
        "        return deg * np.pi / 180\n",
        "    \n",
        "    def _to_deg_(rad):\n",
        "        return rad*180/np.pi\n",
        "    \n",
        "    def __check_off_track__(self):\n",
        "        dist, ind = self.kdtree.query([[self.x, self.y]], 1)\n",
        "        car = (round(self.x,2), round(self.y,2))\n",
        "        closest_x = float(self.track.x[ind[0]])\n",
        "        closest_y = float(self.track.y[ind[0]])\n",
        "        closest = (round(closest_x,2),round(closest_y,2))\n",
        "        assert dist <= 15,\\\n",
        "        f\"Game Over!! Your car veered off the track! Car:{car} Closest Point:{closest}\"\n",
        "    \n",
        "    def move(self, time_step):\n",
        "        heading = Car._to_rad_(self.heading_deg)\n",
        "        steering = Car._to_rad_(self.steering_deg)\n",
        "        \n",
        "     \n",
        "        self.x = self.x + self.speed*np.cos(heading)*time_step\n",
        "        self.y = self.y + self.speed*np.sin(heading)*time_step\n",
        "     \n",
        "        new_heading = (heading + self.speed / self.length * steering * time_step) % (np.pi * 2)\n",
        "        self.heading_deg = Car._to_deg_(new_heading)\n",
        "        \n",
        "        self.__check_off_track__()\n",
        "    \n",
        "        \n",
        "    \n",
        "    def set_steering(self, steer_deg):\n",
        "        assert self.min_steering_deg <= steer_deg <= self.max_steering_deg,\\\n",
        "        f'Steering angle must be in degree and in the range {self.min_steering_deg},{self.max_steering_deg}'\n",
        "        \n",
        "        self.steering_deg = steer_deg\n",
        "        \n",
        "        \n",
        "    def set_speed(self, speed_meter_sec):\n",
        "        assert self.min_speed <= speed_meter_sec <= self.max_speed,\\\n",
        "        (f'Speed must be in meters per second and in the range {self.min_speed},{self.max_speed}')\n",
        "        \n",
        "        self.speed = speed_meter_sec\n",
        "        \n",
        "        \n",
        "    \n",
        "    def find_nearest_track_points(self,n=5):\n",
        "        dist, inds = self.kdtree.query([[self.x, self.y]], n)\n",
        "        inds = list(*inds)\n",
        "        return self.track.loc[inds]\n",
        "        "
      ],
      "execution_count": 2,
      "outputs": []
    },
    {
      "cell_type": "code",
      "metadata": {
        "id": "FAsh8SFEJ68Y"
      },
      "source": [
        "car = Car()"
      ],
      "execution_count": 3,
      "outputs": []
    },
    {
      "cell_type": "code",
      "metadata": {
        "id": "Rfd8cW3mJ68Z",
        "outputId": "56ad3f43-4228-42f0-c802-a8e74fa6a9c2",
        "colab": {
          "base_uri": "https://localhost:8080/",
          "height": 483
        }
      },
      "source": [
        "car.render()"
      ],
      "execution_count": 4,
      "outputs": [
        {
          "output_type": "display_data",
          "data": {
            "image/png": "[encoded data removed]",
            "text/plain": [
              "<Figure size 864x576 with 1 Axes>"
            ]
          },
          "metadata": {
            "tags": [],
            "needs_background": "light"
          }
        }
      ]
    },
    {
      "cell_type": "code",
      "metadata": {
        "id": "xQ2osxfIRBPQ",
        "outputId": "07bed75d-6f61-4b7c-cb4d-d245d1fcf1d0",
        "colab": {
          "base_uri": "https://localhost:8080/"
        }
      },
      "source": [
        "car.heading_deg"
      ],
      "execution_count": 13,
      "outputs": [
        {
          "output_type": "execute_result",
          "data": {
            "text/plain": [
              "14.800000000000018"
            ]
          },
          "metadata": {
            "tags": []
          },
          "execution_count": 13
        }
      ]
    },
    {
      "cell_type": "code",
      "metadata": {
        "id": "DHBZ3vZhJ68b",
        "outputId": "a44b9743-0423-4dd1-8fb4-56b510379a36",
        "colab": {
          "base_uri": "https://localhost:8080/",
          "height": 518
        }
      },
      "source": [
        "car.__reset__()\n",
        "car.set_speed(20)\n",
        "car.set_steering(0.1)\n",
        "\n",
        "try:\n",
        "    for i in range(150):\n",
        "        car.move(.1)\n",
        "except Exception as err:\n",
        "    print(f'{i} steps.')\n",
        "    print(err)\n",
        "finally:\n",
        "    dist, inds =car.find_nearest_track_points()\n",
        "    x_axis= [x in  car.track[inds]\n",
        "    np.polyfit(car.track[inds[0],)\n",
        "    car.render()"
      ],
      "execution_count": 8,
      "outputs": [
        {
          "output_type": "stream",
          "text": [
            "73 steps.\n",
            "Game Over!! Your car veered off the track! Car:(1056.07, 1147.59) Closest Point:(1050.24, 1161.62)\n"
          ],
          "name": "stdout"
        },
        {
          "output_type": "display_data",
          "data": {
            "image/png": "[encoded data removed]",
            "text/plain": [
              "<Figure size 864x576 with 1 Axes>"
            ]
          },
          "metadata": {
            "tags": [],
            "needs_background": "light"
          }
        }
      ]
    },
    {
      "cell_type": "code",
      "metadata": {
        "id": "ZdVr6ji9J68c",
        "outputId": "e4ffeec4-9201-4389-d4f4-e8478fc96b0f",
        "colab": {
          "base_uri": "https://localhost:8080/"
        }
      },
      "source": [
        "dist, inds = car.find_nearest_track_points(10)\n",
        "len(inds)"
      ],
      "execution_count": 21,
      "outputs": [
        {
          "output_type": "execute_result",
          "data": {
            "text/plain": [
              "1"
            ]
          },
          "metadata": {
            "tags": []
          },
          "execution_count": 21
        }
      ]
    },
    {
      "cell_type": "code",
      "metadata": {
        "id": "WYHR6qDxUnG9"
      },
      "source": [
        ""
      ],
      "execution_count": 15,
      "outputs": []
    },
    {
      "cell_type": "code",
      "metadata": {
        "id": "H60x7FzpUr1w",
        "outputId": "cf5b1ce8-ed9c-433b-ba65-0ffdce772c8c",
        "colab": {
          "base_uri": "https://localhost:8080/"
        }
      },
      "source": [
        ""
      ],
      "execution_count": 16,
      "outputs": [
        {
          "output_type": "execute_result",
          "data": {
            "text/plain": [
              "[1056.07066624146, 1147.5933330557916]"
            ]
          },
          "metadata": {
            "tags": []
          },
          "execution_count": 16
        }
      ]
    },
    {
      "cell_type": "code",
      "metadata": {
        "id": "fBRCoVSiUsgh"
      },
      "source": [
        ""
      ],
      "execution_count": null,
      "outputs": []
    }
  ]
}